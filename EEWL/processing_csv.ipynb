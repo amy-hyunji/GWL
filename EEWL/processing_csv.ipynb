{
 "cells": [
  {
   "cell_type": "code",
   "execution_count": 1,
   "metadata": {},
   "outputs": [],
   "source": [
    "import csv\n",
    "import pickle\n",
    "\n",
    "f = open('./input/final_unweighted_neg_sampling.csv', newline='')\n",
    "reader = csv.reader(f)\n",
    "\n",
    "data = []\n",
    "is_first = True\n",
    "cnt = 0\n",
    "for row in reader:\n",
    "    if is_first:\n",
    "        is_first = False\n",
    "    else:\n",
    "        row_split = row[0].split(', ')\n",
    "        row_split[0] = row_split[0][1:]\n",
    "        row_split[-1] = row_split[-1][:-1]\n",
    "        neg_community = list(map(lambda x: int(x[1:-1]), row_split))\n",
    "        data.append(neg_community)\n",
    "f.close()"
   ]
  },
  {
   "cell_type": "code",
   "execution_count": 2,
   "metadata": {},
   "outputs": [
    {
     "data": {
      "text/plain": [
       "[[2362, 30008],\n",
       " [39072, 54714],\n",
       " [712, 34520],\n",
       " [24487, 43076],\n",
       " [37316, 57398],\n",
       " [45819, 47955],\n",
       " [5340, 21372],\n",
       " [58434, 44457],\n",
       " [16378, 27104],\n",
       " [17412, 18088]]"
      ]
     },
     "execution_count": 2,
     "metadata": {},
     "output_type": "execute_result"
    }
   ],
   "source": [
    "data[:10]"
   ]
  },
  {
   "cell_type": "code",
   "execution_count": 3,
   "metadata": {},
   "outputs": [],
   "source": [
    "data = {\"type\" : \"list of list\", \"source\" : \"D:\\python_code\\ai506\\TermProject\\Models\\EWL\\processing_csv.ipynb\", \"data\" : data}\n",
    "\n",
    "f = open(\"./input/neg_communities.p\", \"wb\")\n",
    "pickle.dump(data, f)\n",
    "f.close()"
   ]
  },
  {
   "cell_type": "code",
   "execution_count": null,
   "metadata": {},
   "outputs": [],
   "source": []
  }
 ],
 "metadata": {
  "kernelspec": {
   "display_name": "Python 3",
   "language": "python",
   "name": "python3"
  },
  "language_info": {
   "codemirror_mode": {
    "name": "ipython",
    "version": 3
   },
   "file_extension": ".py",
   "mimetype": "text/x-python",
   "name": "python",
   "nbconvert_exporter": "python",
   "pygments_lexer": "ipython3",
   "version": "3.7.4"
  }
 },
 "nbformat": 4,
 "nbformat_minor": 2
}
