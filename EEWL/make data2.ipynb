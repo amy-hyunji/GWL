{
 "cells": [
  {
   "cell_type": "code",
   "execution_count": 1,
   "metadata": {},
   "outputs": [],
   "source": [
    "f = open(\"./data/paper_author.txt\", \"r\")\n",
    "data = f.readlines()\n",
    "f.close()"
   ]
  },
  {
   "cell_type": "code",
   "execution_count": 2,
   "metadata": {},
   "outputs": [],
   "source": [
    "#data"
   ]
  },
  {
   "cell_type": "code",
   "execution_count": 3,
   "metadata": {},
   "outputs": [
    {
     "name": "stdout",
     "output_type": "stream",
     "text": [
      "[['4512', '6350', '32031'], ['12354', '25979', '28348', '33994', '40349', '47410'], ['4346', '15400'], ['8494', '17754'], ['21569', '58422'], ['1334', '53641'], ['13836', '27806'], ['4565', '54418'], ['1723', '9217'], ['22122', '22287']]\n",
      "137958\n",
      "[[4512, 6350, 32031], [12354, 25979, 28348, 33994, 40349, 47410], [4346, 15400], [8494, 17754], [21569, 58422], [1334, 53641], [13836, 27806], [4565, 54418], [1723, 9217], [22122, 22287]]\n",
      "137958\n"
     ]
    }
   ],
   "source": [
    "new_list = list(map(lambda x: x.strip().split(' '), data[1:]))\n",
    "print (new_list[:10])\n",
    "print (len(new_list))\n",
    "\n",
    "pa_raw = []\n",
    "for row in new_list:\n",
    "    pa_raw.append( list(map(lambda x: int(x), row))    )\n",
    "print (pa_raw[:10])\n",
    "print (len(pa_raw))"
   ]
  },
  {
   "cell_type": "code",
   "execution_count": 4,
   "metadata": {},
   "outputs": [],
   "source": [
    "pa_raw_data = {\"type\" : \"list of list\", \"source\" : \"D:\\python_code\\ai506\\TermProject\\Models\\EWL\\make data2.ipynb\", \"data\" :pa_raw}\n",
    "\n",
    "import pickle\n",
    "\n",
    "f = open(\"./input/pos_communities.p\", \"wb\")\n",
    "pickle.dump(pa_raw_data, f)\n",
    "f.close()"
   ]
  }
 ],
 "metadata": {
  "kernelspec": {
   "display_name": "Python 3",
   "language": "python",
   "name": "python3"
  },
  "language_info": {
   "codemirror_mode": {
    "name": "ipython",
    "version": 3
   },
   "file_extension": ".py",
   "mimetype": "text/x-python",
   "name": "python",
   "nbconvert_exporter": "python",
   "pygments_lexer": "ipython3",
   "version": "3.7.4"
  }
 },
 "nbformat": 4,
 "nbformat_minor": 2
}
